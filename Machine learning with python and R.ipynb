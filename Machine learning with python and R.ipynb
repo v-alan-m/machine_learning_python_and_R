{
 "cells": [
  {
   "cell_type": "markdown",
   "metadata": {},
   "source": [
    "# Machine learning with python and R"
   ]
  },
  {
   "cell_type": "markdown",
   "metadata": {},
   "source": [
    "Install:\n",
    "- Anaconda: https://www.anaconda.com/\n",
    "- R: https://cran.r-project.org/\n",
    "- R Studio: https://rstudio.com/"
   ]
  },
  {
   "cell_type": "markdown",
   "metadata": {},
   "source": [
    "## Contents\n",
    "- What is Machine Learning\n",
    "    - Features of ML\n",
    "    - How it works\n",
    "    - Machine learning life cycle\n",
    "- Important python libraries\n",
    "- Types of machine learning\n",
    "    - Supervised learning\n",
    "    - Unsupervised learning\n",
    "    - Reinforcement learning"
   ]
  },
  {
   "cell_type": "markdown",
   "metadata": {},
   "source": [
    "### What is Machine Learning\n",
    "- Machine learning is a class of algorithms which are data driven\n",
    "    - Unlike normal algorithms it is the data that indicates what the optimum/target answer is\n",
    "- Getting computers to program themselves by creating an algorithm to make decisions using data  \n",
    "\n",
    "#### Features of ML\n",
    "- Uses the data to detect patterns in a dataset, and adjust the program accordingly\n",
    "- Develops programs that can teach themselvees to grow and change when exposed to new data\n",
    "- Enables computers to find hidden insights, using iterative algorithms without being explicitly programmed\n",
    "- Automates analytical model building  \n",
    "\n",
    "#### How it works  \n",
    " - A feedback loop is created, to automate, and output improved results  \n",
    "\n",
    "\n",
    " 1. Learn from data\n",
    " 2. Find hidden insights\n",
    " 3. Train and grow\n",
    " \n",
    "#### Machine learning life cycle  \n",
    "Step 1: Collect data  \n",
    "    - YouTube, Excel, SQL\n",
    "Step 2: Wrangle data  \n",
    "    - Filter data (target data), clean data (format checks) \n",
    "Step 3: Analyse data  \n",
    "    - Use machine learning algorithms to create desired model\n",
    "Step 4: Train algorithm  \n",
    "    - Fed a training dataset to observe patterns within the data\n",
    "Step 5: Test Algorithm  \n",
    "    - Determines the accuracy of the model based on the defined goal\n",
    "Step 6: Deploy and optimise  \n",
    "    - Deplyed solution using all the assigned data\n",
    "    - If there is an undesired drop in preformance and model is retrained"
   ]
  },
  {
   "cell_type": "markdown",
   "metadata": {},
   "source": [
    "### Important python libraries\n",
    "#### Numpy\n",
    "- Provides useful features for operations on n-arrays and matrices  \n",
    "\n",
    "#### Matplotlib \n",
    "- Make charts to graphically-visualise data  \n",
    "\n",
    "#### Scikit-Learn \n",
    "- Efficient data mining and anaysis, built on NumPy and matplotlib  \n",
    "\n",
    "#### Pandas\n",
    "- Data wrangling, data manipulation and aggregation  \n",
    "\n",
    "#### Seaborn \n",
    "- Visualised data optimisation"
   ]
  },
  {
   "cell_type": "markdown",
   "metadata": {},
   "source": [
    "### Types of machine learning\n",
    "\n",
    "<br></br>\n",
    "#### Supervised learning\n",
    "- If x is input and y is output\n",
    "    - The algorithm is used to learn the mapping function, of input to output \n",
    "    \n",
    "<img src=\"pics/supervised_learning.png\">\n",
    "\n",
    "- Using the training dataset, the algorithm can train and learn:\n",
    "    - What is typically a face\n",
    "    - What is typically a non-face\n",
    "    \n",
    "- Once the training is done, the model is given an input, and the output is tested\n",
    "    - For this example the user can distinguish whether the answer is correct, as the test  \n",
    "\n",
    "<br></br>\n",
    "#### Unsupervised learning\n",
    "- The training of data that is not classified or labelled  \n",
    "\n",
    "<img src=\"pics/unsupervised_learning.png\">\n",
    "\n",
    "- Can be used to cluster the data into classes\n",
    "- Or by a chosen variable, e.g color or shape (for the given example)\n",
    "\n",
    "<br></br>\n",
    "#### Reinforcement learning\n",
    "- Learning by interacting with a space or an environment\n",
    "- Selects an action based on the past experience, exploration and new choices\n",
    "\n",
    "<img src=\"pics/reinforcement_learning.png\">\n",
    "\n",
    "- Can use a previously tranined model/algorithm to train for identifing a similar criteria"
   ]
  },
  {
   "cell_type": "markdown",
   "metadata": {},
   "source": []
  }
 ],
 "metadata": {
  "kernelspec": {
   "display_name": "Python 3",
   "language": "python",
   "name": "python3"
  },
  "language_info": {
   "codemirror_mode": {
    "name": "ipython",
    "version": 3
   },
   "file_extension": ".py",
   "mimetype": "text/x-python",
   "name": "python",
   "nbconvert_exporter": "python",
   "pygments_lexer": "ipython3",
   "version": "3.7.4"
  }
 },
 "nbformat": 4,
 "nbformat_minor": 2
}
